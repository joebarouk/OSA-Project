{
  "cells": [
    {
      "cell_type": "code",
      "execution_count": null,
      "metadata": {
        "id": "nTM48rq3A6R4"
      },
      "outputs": [],
      "source": [
        "!pip install ultralytics\n",
        "!pip install roboflow\n",
        "\n",
        "from roboflow import Roboflow\n",
        "rf = Roboflow(api_key=\"KY2c694yFnm72J8PXSyp\")\n",
        "project = rf.workspace(\"yolo-wujjy\").project(\"ce-s\")\n",
        "dataset = project.version(5).download(\"yolov8\")"
      ]
    },
    {
      "cell_type": "code",
      "execution_count": null,
      "metadata": {
        "id": "eVIVyejfJdyv"
      },
      "outputs": [],
      "source": [
        "#Training method\n",
        "\n",
        "!yolo task=detect \\\n",
        "mode=train \\\n",
        "model=yolov8n.pt \\\n",
        "data={dataset.location}/data.yaml \\\n",
        "epochs=100 \\\n",
        "imgsz=640 \\\n",
        "dropout=0.7\n",
        "#optimizer='AdamW' \\\n",
        "# lr0=0.01 \\\n",
        "# lrf=0.01 \\\n",
        "# iou_t=0.2 \\\n",
        "# cos_lr=True \\\n",
        "# deterministic=False \\\n",
        "# weight_decay=0.0005 \\\n",
        "# cls=0.5 \\\n",
        "#hsv_h=0.015 \\\n",
        "#hsv_s=0.7 \\\n",
        "#hsv_v=0.4"
      ]
    },
    {
      "cell_type": "code",
      "execution_count": null,
      "metadata": {
        "id": "YEywmfLVzKje"
      },
      "outputs": [],
      "source": [
        "#Validation Method\n",
        "!yolo task=detect \\\n",
        "mode=val \\\n",
        "model=\"Models/Solution 3/train/weights/best.pt\" \\\n",
        "data={dataset.location}/data.yaml"
      ]
    },
    {
      "cell_type": "code",
      "execution_count": 2,
      "metadata": {
        "id": "MrG_5WmDHs-I"
      },
      "outputs": [],
      "source": [
        "#Detecting Method\n",
        "!yolo task=detect \\\n",
        "mode=predict \\\n",
        "model=\"Models/Solution 3/train/weights/best.pt\" \\\n",
        "conf=0.3 \\\n",
        "source='CE+S-5/test/images'"
      ]
    }
  ],
  "metadata": {
    "accelerator": "GPU",
    "colab": {
      "provenance": []
    },
    "kernelspec": {
      "display_name": "Python 3",
      "name": "python3"
    },
    "language_info": {
      "name": "python"
    }
  },
  "nbformat": 4,
  "nbformat_minor": 0
}
