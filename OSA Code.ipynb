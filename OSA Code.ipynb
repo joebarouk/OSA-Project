{
 "cells": [
  {
   "cell_type": "markdown",
   "metadata": {},
   "source": [
    "### Download the dependencies:"
   ]
  },
  {
   "cell_type": "code",
   "execution_count": null,
   "metadata": {},
   "outputs": [],
   "source": [
    "!pip install ultralytics\n",
    "!pip install roboflow"
   ]
  },
  {
   "cell_type": "markdown",
   "metadata": {},
   "source": [
    "### To download the Roboflow Dataset:\n",
    "https://universe.roboflow.com/fyp-ormnr/on-shelf-stock-availability-ox04t/dataset/5"
   ]
  },
  {
   "cell_type": "code",
   "execution_count": null,
   "metadata": {},
   "outputs": [],
   "source": [
    "from roboflow import Roboflow\n",
    "rf = Roboflow(api_key=\"KY2c694yFnm72J8PXSyp\")\n",
    "project = rf.workspace(\"fyp-ormnr\").project(\"on-shelf-stock-availability-ox04t\")\n",
    "dataset = project.version(5).download(\"yolov8\") "
   ]
  },
  {
   "cell_type": "markdown",
   "metadata": {},
   "source": [
    "### To download the Spinneys Dataset:\n",
    "https://universe.roboflow.com/yolo-wujjy/spinneys-test/dataset/3"
   ]
  },
  {
   "cell_type": "code",
   "execution_count": null,
   "metadata": {},
   "outputs": [],
   "source": [
    "from roboflow import Roboflow\n",
    "rf = Roboflow(api_key=\"KY2c694yFnm72J8PXSyp\")\n",
    "project = rf.workspace(\"yolo-wujjy\").project(\"spinneys-test\")\n",
    "dataset = project.version(3).download(\"yolov8\") #check the link above to choose which version you want"
   ]
  },
  {
   "cell_type": "markdown",
   "metadata": {},
   "source": [
    "### To download the combined Roboflow and Spinneys Dataset:\n",
    "https://universe.roboflow.com/yolo-wujjy/ce-s/dataset/5"
   ]
  },
  {
   "cell_type": "code",
   "execution_count": null,
   "metadata": {
    "id": "nTM48rq3A6R4"
   },
   "outputs": [],
   "source": [
    "from roboflow import Roboflow\n",
    "rf = Roboflow(api_key=\"KY2c694yFnm72J8PXSyp\")\n",
    "project = rf.workspace(\"yolo-wujjy\").project(\"ce-s\")\n",
    "dataset = project.version(5).download(\"yolov8\") #check the link above to choose which version you want"
   ]
  },
  {
   "cell_type": "markdown",
   "metadata": {},
   "source": [
    "### To download the Test0 Dataset:\n",
    "https://universe.roboflow.com/yolo-wujjy/test0-gf6hu/dataset/1"
   ]
  },
  {
   "cell_type": "code",
   "execution_count": null,
   "metadata": {},
   "outputs": [],
   "source": [
    "from roboflow import Roboflow\n",
    "rf = Roboflow(api_key=\"KY2c694yFnm72J8PXSyp\")\n",
    "project = rf.workspace(\"yolo-wujjy\").project(\"test0-gf6hu\")\n",
    "dataset = project.version(1).download(\"yolov8\") #check the link above to choose which version you want"
   ]
  },
  {
   "cell_type": "markdown",
   "metadata": {},
   "source": [
    "### To run on colab:\n",
    "use: data={dataset.location}/data.yaml after downloading the dataset\n",
    "\n",
    "### To run locally:\n",
    "1. Go to: 'C:\\Users\\user\\AppData\\Roaming\\Ultralytics\\settings.yaml' \n",
    "2. Change the 'datasets_dir' property to the current folder (folder where this notebook is located)\n",
    "3. Use: data= (name of downloaded folder)/data.yaml. \n",
    "For example, when downloading the spinneys dataset version 3, the name of the downloaded folder will be \"Spinneys-Test-3\""
   ]
  },
  {
   "cell_type": "code",
   "execution_count": null,
   "metadata": {
    "id": "eVIVyejfJdyv"
   },
   "outputs": [],
   "source": [
    "#Training method\n",
    "\n",
    "!yolo task=detect \\\n",
    "mode=train \\\n",
    "model=yolov8n.pt \\\n",
    "data={dataset.location}/data.yaml \\\n",
    "epochs=2 \\\n",
    "imgsz=640 \\\n",
    "dropout=0.7\n",
    "#optimizer='AdamW' \\\n",
    "# lr0=0.01 \\\n",
    "# lrf=0.01 \\\n",
    "# iou_t=0.2 \\\n",
    "# cos_lr=True \\\n",
    "# deterministic=False \\\n",
    "# weight_decay=0.0005 \\\n",
    "# cls=0.5 \\\n",
    "#hsv_h=0.015 \\\n",
    "#hsv_s=0.7 \\\n",
    "#hsv_v=0.4"
   ]
  },
  {
   "cell_type": "code",
   "execution_count": null,
   "metadata": {
    "id": "YEywmfLVzKje"
   },
   "outputs": [],
   "source": [
    "#Validation Method\n",
    "!yolo task=detect \\\n",
    "mode=val \\\n",
    "model=\"Models/Solution 3/train/weights/best.pt\" \\ #Give the path to your model\n",
    "data={dataset.location}/data.yaml \n",
    "#conf=0.5"
   ]
  },
  {
   "cell_type": "code",
   "execution_count": null,
   "metadata": {
    "id": "MrG_5WmDHs-I"
   },
   "outputs": [],
   "source": [
    "#Detecting Method\n",
    "!yolo task=detect \\\n",
    "mode=predict \\\n",
    "model=\"Models/Solution 3/train/weights/best.pt\" \\ #Give the path to your model\n",
    "conf=0.5 \\\n",
    "source='Spinneys-Test-3/test/images' #Give the path to your images"
   ]
  }
 ],
 "metadata": {
  "accelerator": "GPU",
  "colab": {
   "provenance": []
  },
  "kernelspec": {
   "display_name": "Python 3 (ipykernel)",
   "language": "python",
   "name": "python3"
  },
  "language_info": {
   "codemirror_mode": {
    "name": "ipython",
    "version": 3
   },
   "file_extension": ".py",
   "mimetype": "text/x-python",
   "name": "python",
   "nbconvert_exporter": "python",
   "pygments_lexer": "ipython3",
   "version": "3.10.6"
  }
 },
 "nbformat": 4,
 "nbformat_minor": 1
}
